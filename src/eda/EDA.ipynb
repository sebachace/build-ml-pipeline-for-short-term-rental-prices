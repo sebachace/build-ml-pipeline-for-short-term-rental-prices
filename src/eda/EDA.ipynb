{
 "cells": [
  {
   "cell_type": "code",
   "execution_count": 1,
   "id": "ac46ff3f",
   "metadata": {},
   "outputs": [],
   "source": [
    "import wandb\n",
    "import pandas as pd\n",
    "import pandas_profiling"
   ]
  },
  {
   "cell_type": "markdown",
   "id": "c6d44461",
   "metadata": {},
   "source": [
    "### Download latest sample from wandb"
   ]
  },
  {
   "cell_type": "code",
   "execution_count": 2,
   "id": "60d6e3eg",
   "metadata": {},
   "outputs": [
    {
     "name": "stderr",
     "output_type": "stream",
     "text": [
      "\u001b[34m\u001b[1mwandb\u001b[0m: Currently logged in as: \u001b[33mortizv\u001b[0m (use `wandb login --relogin` to force relogin)\n",
      "\u001b[34m\u001b[1mwandb\u001b[0m: wandb version 0.12.21 is available!  To upgrade, please run:\n",
      "\u001b[34m\u001b[1mwandb\u001b[0m:  $ pip install wandb --upgrade\n"
     ]
    },
    {
     "data": {
      "text/html": [
       "\n",
       "                Tracking run with wandb version 0.10.31<br/>\n",
       "                Syncing run <strong style=\"color:#cdcd00\">bright-firebrand-2</strong> to <a href=\"https://wandb.ai\" target=\"_blank\">Weights & Biases</a> <a href=\"https://docs.wandb.com/integrations/jupyter.html\" target=\"_blank\">(Documentation)</a>.<br/>\n",
       "                Project page: <a href=\"https://wandb.ai/marcelortizv/nyc_airbnb\" target=\"_blank\">https://wandb.ai/marcelortizv/nyc_airbnb</a><br/>\n",
       "                Run page: <a href=\"https://wandb.ai/marcelortizv/nyc_airbnb/runs/3szvfo8h\" target=\"_blank\">https://wandb.ai/marcelortizv/nyc_airbnb/runs/3szvfo8h</a><br/>\n",
       "                Run data is saved locally in <code>/Users/c02g40n7q05p/UAI_SCHACEE/GithubRepos/build-ml-pipeline-for-short-term-rental-prices/src/eda/wandb/run-20220719_022053-3szvfo8h</code><br/><br/>\n",
       "            "
      ],
      "text/plain": [
       "<IPython.core.display.HTML object>"
      ]
     },
     "metadata": {},
     "output_type": "display_data"
    }
   ],
   "source": [
    "run = wandb.init(project=\"nyc_airbnb\", group=\"eda\", save_code=True)\n",
    "local_path = wandb.use_artifact(\"sample.csv:latest\").file()\n",
    "df = pd.read_csv(local_path, index_col=\"id\")"
   ]
  },
  {
   "cell_type": "markdown",
   "id": "4598dc1c",
   "metadata": {},
   "source": [
    "### Run profiling procedure"
   ]
  },
  {
   "cell_type": "code",
   "execution_count": 3,
   "id": "42fe5813",
   "metadata": {},
   "outputs": [
    {
     "data": {
      "application/vnd.jupyter.widget-view+json": {
       "model_id": "b2bd5b8f6d5e4ec1ab98b29ac55e003f",
       "version_major": 2,
       "version_minor": 0
      },
      "text/plain": [
       "Summarize dataset:   0%|          | 0/5 [00:00<?, ?it/s]"
      ]
     },
     "metadata": {},
     "output_type": "display_data"
    },
    {
     "data": {
      "application/vnd.jupyter.widget-view+json": {
       "model_id": "5d0c42a2c55d4d4c993623f9f73a2455",
       "version_major": 2,
       "version_minor": 0
      },
      "text/plain": [
       "Generate report structure:   0%|          | 0/1 [00:00<?, ?it/s]"
      ]
     },
     "metadata": {},
     "output_type": "display_data"
    },
    {
     "data": {
      "application/vnd.jupyter.widget-view+json": {
       "model_id": "",
       "version_major": 2,
       "version_minor": 0
      },
      "text/plain": [
       "Render widgets:   0%|          | 0/1 [00:00<?, ?it/s]"
      ]
     },
     "metadata": {},
     "output_type": "display_data"
    },
    {
     "data": {
      "application/vnd.jupyter.widget-view+json": {
       "model_id": "d133c8e1bbdb4677a7f32d951abd2b4e",
       "version_major": 2,
       "version_minor": 0
      },
      "text/plain": [
       "VBox(children=(Tab(children=(Tab(children=(GridBox(children=(VBox(children=(GridspecLayout(children=(HTML(valu…"
      ]
     },
     "metadata": {},
     "output_type": "display_data"
    }
   ],
   "source": [
    "profile = pandas_profiling.ProfileReport(df)\n",
    "profile.to_widgets()"
   ]
  },
  {
   "cell_type": "markdown",
   "id": "19a8dd5b",
   "metadata": {},
   "source": [
    "### Filter through Min. and Max. price range"
   ]
  },
  {
   "cell_type": "code",
   "execution_count": 4,
   "id": "bb4009b7",
   "metadata": {},
   "outputs": [],
   "source": [
    "min_price = 10\n",
    "max_price = 350\n",
    "\n",
    "idx=df['price'].between(min_price, max_price)\n",
    "df =df[idx].copy()"
   ]
  },
  {
   "cell_type": "markdown",
   "id": "ea6787a3",
   "metadata": {},
   "source": [
    "### Correct datetime data type"
   ]
  },
  {
   "cell_type": "code",
   "execution_count": 5,
   "id": "45668bdd",
   "metadata": {},
   "outputs": [],
   "source": [
    "df['last_review'] = pd.to_datetime(df['last_review'])"
   ]
  },
  {
   "cell_type": "code",
   "execution_count": 6,
   "id": "7673d0c1",
   "metadata": {},
   "outputs": [
    {
     "name": "stdout",
     "output_type": "stream",
     "text": [
      "<class 'pandas.core.frame.DataFrame'>\n",
      "Int64Index: 19001 entries, 9138664 to 33631782\n",
      "Data columns (total 15 columns):\n",
      " #   Column                          Non-Null Count  Dtype         \n",
      "---  ------                          --------------  -----         \n",
      " 0   name                            18994 non-null  object        \n",
      " 1   host_id                         19001 non-null  int64         \n",
      " 2   host_name                       18993 non-null  object        \n",
      " 3   neighbourhood_group             19001 non-null  object        \n",
      " 4   neighbourhood                   19001 non-null  object        \n",
      " 5   latitude                        19001 non-null  float64       \n",
      " 6   longitude                       19001 non-null  float64       \n",
      " 7   room_type                       19001 non-null  object        \n",
      " 8   price                           19001 non-null  int64         \n",
      " 9   minimum_nights                  19001 non-null  int64         \n",
      " 10  number_of_reviews               19001 non-null  int64         \n",
      " 11  last_review                     15243 non-null  datetime64[ns]\n",
      " 12  reviews_per_month               15243 non-null  float64       \n",
      " 13  calculated_host_listings_count  19001 non-null  int64         \n",
      " 14  availability_365                19001 non-null  int64         \n",
      "dtypes: datetime64[ns](1), float64(3), int64(6), object(5)\n",
      "memory usage: 2.3+ MB\n"
     ]
    }
   ],
   "source": [
    "df.info()"
   ]
  },
  {
   "cell_type": "code",
   "execution_count": 7,
   "id": "6fd31744",
   "metadata": {},
   "outputs": [
    {
     "data": {
      "text/html": [
       "<br/>Waiting for W&B process to finish, PID 20300<br/>Program ended successfully."
      ],
      "text/plain": [
       "<IPython.core.display.HTML object>"
      ]
     },
     "metadata": {},
     "output_type": "display_data"
    },
    {
     "data": {
      "application/vnd.jupyter.widget-view+json": {
       "model_id": "998834ccfd924cbe84949a8cadfeaad4",
       "version_major": 2,
       "version_minor": 0
      },
      "text/plain": [
       "VBox(children=(Label(value=' 0.04MB of 0.04MB uploaded (0.00MB deduped)\\r'), FloatProgress(value=1.0, max=1.0)…"
      ]
     },
     "metadata": {},
     "output_type": "display_data"
    },
    {
     "data": {
      "text/html": [
       "Find user logs for this run at: <code>/Users/c02g40n7q05p/UAI_SCHACEE/GithubRepos/build-ml-pipeline-for-short-term-rental-prices/src/eda/wandb/run-20220719_022053-3szvfo8h/logs/debug.log</code>"
      ],
      "text/plain": [
       "<IPython.core.display.HTML object>"
      ]
     },
     "metadata": {},
     "output_type": "display_data"
    },
    {
     "data": {
      "text/html": [
       "Find internal logs for this run at: <code>/Users/c02g40n7q05p/UAI_SCHACEE/GithubRepos/build-ml-pipeline-for-short-term-rental-prices/src/eda/wandb/run-20220719_022053-3szvfo8h/logs/debug-internal.log</code>"
      ],
      "text/plain": [
       "<IPython.core.display.HTML object>"
      ]
     },
     "metadata": {},
     "output_type": "display_data"
    },
    {
     "data": {
      "text/html": [
       "Synced 7 W&B file(s), 0 media file(s), 3 artifact file(s) and 1 other file(s)"
      ],
      "text/plain": [
       "<IPython.core.display.HTML object>"
      ]
     },
     "metadata": {},
     "output_type": "display_data"
    },
    {
     "data": {
      "text/html": [
       "\n",
       "                    <br/>Synced <strong style=\"color:#cdcd00\">bright-firebrand-2</strong>: <a href=\"https://wandb.ai/marcelortizv/nyc_airbnb/runs/3szvfo8h\" target=\"_blank\">https://wandb.ai/marcelortizv/nyc_airbnb/runs/3szvfo8h</a><br/>\n",
       "                "
      ],
      "text/plain": [
       "<IPython.core.display.HTML object>"
      ]
     },
     "metadata": {},
     "output_type": "display_data"
    }
   ],
   "source": [
    "run.finish()"
   ]
  }
 ],
 "metadata": {
  "kernelspec": {
   "display_name": "Python 3 (ipykernel)",
   "language": "python",
   "name": "python3"
  },
  "language_info": {
   "codemirror_mode": {
    "name": "ipython",
    "version": 3
   },
   "file_extension": ".py",
   "mimetype": "text/x-python",
   "name": "python",
   "nbconvert_exporter": "python",
   "pygments_lexer": "ipython3",
   "version": "3.9.13"
  }
 },
 "nbformat": 4,
 "nbformat_minor": 5
}
